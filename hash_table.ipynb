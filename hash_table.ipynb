{
 "cells": [
  {
   "cell_type": "code",
   "execution_count": 1,
   "metadata": {},
   "outputs": [],
   "source": [
    "import math"
   ]
  },
  {
   "cell_type": "code",
   "execution_count": 3,
   "metadata": {},
   "outputs": [],
   "source": [
    "def hash_mod(key):\n",
    "    return key % hash_key\n"
   ]
  },
  {
   "cell_type": "code",
   "execution_count": 4,
   "metadata": {},
   "outputs": [],
   "source": [
    "def get_hash_table(length, key_list, hash_type):\n",
    "\n",
    "    #按照线性探测法生成哈希表，返回查找成功长度\n",
    "    if hash_type == \"linear\":\n",
    "        hash_table, suc_count = linear_hash(key_list, length)\n",
    "    elif hash_type == \"square\":\n",
    "        hash_table, suc_count = square_hash(key_list, length)\n",
    "    else:\n",
    "        print(\"Hash Type ERROR: use linear or square as parameters\")\n",
    "\n",
    "    #计算查找不成功长度\n",
    "    err_count = 0\n",
    "    for i in range(length):\n",
    "        temp_hash = hash_table[i:length] + hash_table[0:i]\n",
    "        err_count += temp_hash.index(-1)+1\n",
    "\n",
    "    return hash_table, suc_count, err_count\n"
   ]
  },
  {
   "cell_type": "code",
   "execution_count": 5,
   "metadata": {},
   "outputs": [],
   "source": [
    "def linear_hash(key_list, length):\n",
    "    hash_table = [-1 for i in range(length)]\n",
    "    suc_count = 0\n",
    "    for key in key_list:\n",
    "        H = hash_mod(key)\n",
    "        for index in range(H, len(hash_table)):\n",
    "            suc_count += 1\n",
    "            if hash_table[index] == -1:\n",
    "                hash_table[index] = key\n",
    "                break\n",
    "    return hash_table, suc_count\n",
    "\n",
    "\n",
    "def square_hash(key_list, length):\n",
    "    hash_table = [-1 for i in range(length)]\n",
    "    suc_count = 0\n",
    "    for key in key_list:\n",
    "        H = hash_mod(key)\n",
    "        i = 0\n",
    "        while True:\n",
    "            index = hash_mod(H + pow(i, 2))\n",
    "            suc_count += 1\n",
    "            #print(\"{} + {}\".format(H,pow(i,2)))\n",
    "            if hash_table[index] == -1:\n",
    "                hash_table[index] = key\n",
    "                break\n",
    "            if(i != 0):\n",
    "                index = hash_mod(H - pow(i, 2))\n",
    "                suc_count += 1\n",
    "                #print(\"{} - {}\".format(H, pow(i, 2)))\n",
    "                if hash_table[index] == -1:\n",
    "                    hash_table[index] = key\n",
    "                    break\n",
    "            i += 1\n",
    "    return hash_table, suc_count\n"
   ]
  },
  {
   "cell_type": "code",
   "execution_count": 6,
   "metadata": {},
   "outputs": [],
   "source": [
    "def print_hash_ASL(keys, length, hash_type):\n",
    "    key_list = keys\n",
    "    hash_length = length\n",
    "\n",
    "    hash_table, suc_count, err_count = get_hash_table(\n",
    "        hash_length, key_list, hash_type)\n",
    "\n",
    "    #打印哈希表\n",
    "    print(\"哈希表：\\t{}\".format(hash_table))\n",
    "\n",
    "    #打印装填系数\n",
    "    print(\"装填系数：\\t{:.2f}\".format(len(key_list)/len(hash_table)))\n",
    "\n",
    "    #计算查找成功和不成功的平均查找长度\n",
    "    SUC_ASL = suc_count/len(key_list)\n",
    "    ERR_ASL = err_count/len(hash_table)\n",
    "\n",
    "    #打印平均查找长度\n",
    "    print(\"查找成功ASL: \\t{:.2f}\".format(suc_count/len(key_list)))\n",
    "    print(\"查找失败ASL: \\t{:.2f}\".format(err_count/len(hash_table)))\n"
   ]
  },
  {
   "cell_type": "code",
   "execution_count": 7,
   "metadata": {},
   "outputs": [],
   "source": [
    "global hash_key"
   ]
  },
  {
   "cell_type": "markdown",
   "metadata": {},
   "source": [
    "## 实验1"
   ]
  },
  {
   "cell_type": "code",
   "execution_count": 11,
   "metadata": {},
   "outputs": [
    {
     "name": "stdout",
     "output_type": "stream",
     "text": [
      "TEST 1:\n",
      "哈希表：\t[-1, 14, 41, 68, 30, -1, -1, 46, -1, 61, 23, 24, 51, 11, 35]\n",
      "装填系数：\t0.73\n",
      "查找成功ASL: \t1.64\n",
      "查找失败ASL: \t3.13\n",
      "------------------------\n",
      "哈希表：\t[-1, 14, 41, 68, 30, -1, -1, 46, -1, 61, 23, 24, 51]\n",
      "装填系数：\t0.85\n",
      "查找成功ASL: \t1.36\n",
      "查找失败ASL: \t2.62\n"
     ]
    }
   ],
   "source": [
    "# TEST 1\n",
    "hash_key = 13\n",
    "\n",
    "keys_1 = [24, 30, 23, 41, 51, 68, 46, 11, 14, 61, 35]\n",
    "length_11 = 15\n",
    "length_12 = 13\n",
    "\n",
    "print(\"TEST 1:\")\n",
    "print_hash_ASL(keys_1, length_11, hash_type='linear')\n",
    "print(\"------------------------\")\n",
    "print_hash_ASL(keys_1, length_12, hash_type='linear')\n"
   ]
  },
  {
   "cell_type": "markdown",
   "metadata": {},
   "source": [
    "## 实验2"
   ]
  },
  {
   "cell_type": "code",
   "execution_count": 10,
   "metadata": {},
   "outputs": [
    {
     "name": "stdout",
     "output_type": "stream",
     "text": [
      "TEST 2:\n",
      "哈希表：\t[-1, 67, 46, 25, 15, 34, 6, 40, -1, -1, 21]\n",
      "装填系数：\t0.73\n",
      "查找成功ASL: \t1.50\n",
      "查找失败ASL: \t3.64\n",
      "------------------------\n",
      "哈希表：\t[34, 67, 46, 25, 15, -1, 6, 40, -1, -1, 21]\n",
      "装填系数：\t0.73\n",
      "查找成功ASL: \t1.25\n",
      "查找失败ASL: \t3.18\n"
     ]
    }
   ],
   "source": [
    "# TEST 2\n",
    "hash_key = 11\n",
    "\n",
    "keys_2 = [46, 25, 40, 15, 67, 34, 6, 21]\n",
    "length_2 = 11\n",
    "print(\"TEST 2:\")\n",
    "print_hash_ASL(keys_2, length_2, hash_type='linear')\n",
    "print(\"------------------------\")\n",
    "print_hash_ASL(keys_2, length_2, hash_type='square')\n",
    "\n",
    "\n"
   ]
  },
  {
   "cell_type": "markdown",
   "metadata": {},
   "source": [
    "## 实验结论\n",
    "- 装填系数越大，ASL越小\n",
    "\n",
    "- 装填系数相同，二次探测ASL更小"
   ]
  }
 ],
 "metadata": {
  "interpreter": {
   "hash": "596d40e10c8dbc1f334111a30616210e26cabb2221246175dbe35ca46d93f2eb"
  },
  "kernelspec": {
   "display_name": "Python 3.8.12 64-bit ('softlab': conda)",
   "language": "python",
   "name": "python3"
  },
  "language_info": {
   "codemirror_mode": {
    "name": "ipython",
    "version": 3
   },
   "file_extension": ".py",
   "mimetype": "text/x-python",
   "name": "python",
   "nbconvert_exporter": "python",
   "pygments_lexer": "ipython3",
   "version": "3.8.12"
  },
  "orig_nbformat": 4
 },
 "nbformat": 4,
 "nbformat_minor": 2
}
