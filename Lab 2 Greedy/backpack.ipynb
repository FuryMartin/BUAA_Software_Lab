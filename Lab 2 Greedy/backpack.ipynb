{
 "cells": [
  {
   "cell_type": "code",
   "execution_count": 64,
   "metadata": {},
   "outputs": [],
   "source": [
    "def partible_backpack(names,weights,values):\n",
    "    unit_values = []\n",
    "    for weight, value in list(zip(weights,values)):\n",
    "        unit_value = value/weight\n",
    "        unit_values.append(unit_value)\n",
    "    priority_list = sorted(list(zip(names, weights, unit_values)), key=lambda x:x[1], reverse=True)\n",
    "    sum_weight = 0\n",
    "    sum_value = 0\n",
    "    limit = 150\n",
    "    result_list = []\n",
    "    #print(priority_list)\n",
    "    for name, weight, unit_value in priority_list:\n",
    "        if sum_weight + weight < limit:\n",
    "            value = weight*unit_value\n",
    "        elif sum_weight + weight >= limit:\n",
    "            weight = limit-sum_weight\n",
    "            value = weight*unit_value\n",
    "        sum_value += value\n",
    "        sum_weight += weight\n",
    "        result_list.append(tuple((name, weight, value)))\n",
    "        if sum_weight >= limit:\n",
    "            break\n",
    "\n",
    "    result_list = (sorted(result_list,key=lambda x:x[0]))\n",
    "    print(\"------------------------------------\")\n",
    "    print(\"物品可分:\\t总价值：{}\".format(sum_value))\n",
    "    formated_print(result_list)\n"
   ]
  },
  {
   "cell_type": "code",
   "execution_count": 65,
   "metadata": {},
   "outputs": [],
   "source": [
    "def unpartible_backpack(names, weights,values):\n",
    "    priority_list = sorted(list(zip(names,weights,values)), key=lambda x:x[2], reverse=True)\n",
    "    result_list = []\n",
    "    sum_value = 0\n",
    "    sum_weight = 0\n",
    "    limit = 150\n",
    "    for name,weight,value in priority_list:\n",
    "        if sum_weight+weight >= limit:\n",
    "            break\n",
    "        sum_weight += weight\n",
    "        sum_value += value\n",
    "        result_list.append(tuple((name, weight, value)))\n",
    "    result_list = (sorted(result_list, key=lambda x: x[0]))\n",
    "    print(\"------------------------------------\")\n",
    "    print(\"物品不可分:\\t总价值：{}\".format(sum_value))\n",
    "    formated_print(result_list)\n"
   ]
  },
  {
   "cell_type": "code",
   "execution_count": 66,
   "metadata": {},
   "outputs": [],
   "source": [
    "def formated_print(para_list):\n",
    "    names = []\n",
    "    weights = []\n",
    "    values = []\n",
    "    for name, weight, value in para_list:\n",
    "        names.append(name)\n",
    "        weights.append(weight)\n",
    "        values.append(value)\n",
    "    print(\"名称\\t\",end=\"\")\n",
    "    for name in names:\n",
    "        print(\"{}\\t\".format(name),end=\"\")\n",
    "    print()\n",
    "    print(\"重量\\t\", end=\"\")\n",
    "    for weight in weights:\n",
    "        print(\"{}\\t\".format(weight),end=\"\")\n",
    "    print()\n",
    "    print(\"价值\\t\", end=\"\")\n",
    "    for value in values:\n",
    "        print(\"{:.1f}\\t\".format(value), end=\"\")\n",
    "    print()\n"
   ]
  },
  {
   "cell_type": "code",
   "execution_count": 67,
   "metadata": {},
   "outputs": [
    {
     "name": "stdout",
     "output_type": "stream",
     "text": [
      "------------------------------------\n",
      "物品可分:\t总价值：115.0\n",
      "名称\t3\t4\t5\t\n",
      "重量\t60\t50\t40\t\n",
      "价值\t30.0\t50.0\t35.0\t\n",
      "------------------------------------\n",
      "物品不可分:\t总价值：165\n",
      "名称\t2\t4\t5\t6\t\n",
      "重量\t30\t50\t40\t10\t\n",
      "价值\t40.0\t50.0\t35.0\t40.0\t\n"
     ]
    }
   ],
   "source": [
    "names = [1,2,3,4,5,6,7]\n",
    "weights = [35,30,60,50,40,10,25]\n",
    "values = [10,40,30,50,35,40,30]\n",
    "partible_backpack(names,weights,values)\n",
    "unpartible_backpack(names,weights,values)\n",
    "\n",
    "\n"
   ]
  }
 ],
 "metadata": {
  "interpreter": {
   "hash": "596d40e10c8dbc1f334111a30616210e26cabb2221246175dbe35ca46d93f2eb"
  },
  "kernelspec": {
   "display_name": "Python 3.8.12 64-bit ('softlab': conda)",
   "language": "python",
   "name": "python3"
  },
  "language_info": {
   "codemirror_mode": {
    "name": "ipython",
    "version": 3
   },
   "file_extension": ".py",
   "mimetype": "text/x-python",
   "name": "python",
   "nbconvert_exporter": "python",
   "pygments_lexer": "ipython3",
   "version": "3.8.12"
  },
  "orig_nbformat": 4
 },
 "nbformat": 4,
 "nbformat_minor": 2
}
