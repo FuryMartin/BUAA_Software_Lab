{
 "cells": [
  {
   "cell_type": "code",
   "execution_count": 95,
   "metadata": {},
   "outputs": [],
   "source": [
    "class Node(object):\n",
    "    def __init__(self, name=None, value=None):\n",
    "        self._name = name\n",
    "        self._value = value\n",
    "        self._left = None\n",
    "        self._right = None"
   ]
  },
  {
   "cell_type": "code",
   "execution_count": 96,
   "metadata": {},
   "outputs": [],
   "source": [
    "class HuffmanTree(object):\n",
    "\n",
    "    #根据Huffman树的思想：以节点为基础，反向建立Huffman树\n",
    "    def __init__(self, char_weights):\n",
    "        self.Leav = [Node(part[0], part[1]) for part in char_weights]  # 根据输入的字符及其频数生成节点\n",
    "        while len(self.Leav) != 1:\n",
    "            self.Leav.sort(key=lambda node: node._value, reverse=True)\n",
    "            c = Node(value=(self.Leav[-1]._value+self.Leav[-2]._value))\n",
    "            c._left = self.Leav.pop(-1)\n",
    "            c._right = self.Leav.pop(-1)\n",
    "            self.Leav.append(c)\n",
    "        self.root = self.Leav[0]\n",
    "        self.Buffer = []\n",
    "    \n",
    "    def pre(self, tree, length):\n",
    "        #length表示层数，self.Buffer[:length]表示该节点的Huffman编码\n",
    "        node = tree\n",
    "        if (not node):\n",
    "            return\n",
    "        elif node._name:\n",
    "            print(node._name + ':', end='')\n",
    "            print(''.join(self.Buffer[:length]))\n",
    "            return\n",
    "        #若Huffman编码长度不足层数-1，则在Huffman编码后增补一位0，否则将Huffman编码的[lenght]位置零\n",
    "        if(len(self.Buffer) <= length):\n",
    "            self.Buffer.append(\"0\")\n",
    "        else:\n",
    "            self.Buffer[length] = \"0\"\n",
    "        self.pre(node._left, length+1)\n",
    "        self.Buffer[length] = \"1\"\n",
    "        self.pre(node._right, length+1)\n",
    "    \n",
    "    #生成哈夫曼编码\n",
    "    def get_code(self):\n",
    "        self.pre(self.root, 0)\n"
   ]
  },
  {
   "cell_type": "code",
   "execution_count": 97,
   "metadata": {},
   "outputs": [
    {
     "name": "stdout",
     "output_type": "stream",
     "text": [
      "d:00\n",
      "g:010\n",
      "c:011\n",
      "a:10\n",
      "e:110\n",
      "f:1110\n",
      "b:1111\n"
     ]
    }
   ],
   "source": [
    "if __name__ == '__main__':\n",
    "    #输入的是字符及其频数\n",
    "    char_weights = [('a', 0.25), ('b', 0.1), ('c', 0.12),('d', 0.2), ('e',0.15),('f', 0.07), ('g', 0.11)]\n",
    "    tree = HuffmanTree(char_weights)\n",
    "    tree.get_code()\n"
   ]
  }
 ],
 "metadata": {
  "interpreter": {
   "hash": "596d40e10c8dbc1f334111a30616210e26cabb2221246175dbe35ca46d93f2eb"
  },
  "kernelspec": {
   "display_name": "Python 3.8.12 64-bit ('softlab': conda)",
   "language": "python",
   "name": "python3"
  },
  "language_info": {
   "codemirror_mode": {
    "name": "ipython",
    "version": 3
   },
   "file_extension": ".py",
   "mimetype": "text/x-python",
   "name": "python",
   "nbconvert_exporter": "python",
   "pygments_lexer": "ipython3",
   "version": "3.8.12"
  },
  "orig_nbformat": 4
 },
 "nbformat": 4,
 "nbformat_minor": 2
}
