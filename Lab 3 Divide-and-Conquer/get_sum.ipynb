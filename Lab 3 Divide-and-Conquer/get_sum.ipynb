{
 "cells": [
  {
   "cell_type": "code",
   "execution_count": 1,
   "metadata": {},
   "outputs": [],
   "source": [
    "import time\n",
    "import random\n"
   ]
  },
  {
   "cell_type": "code",
   "execution_count": 2,
   "metadata": {},
   "outputs": [],
   "source": [
    "def get_max_array_traversal(array):\n",
    "    #time complexity is O(n^2)\n",
    "    max_lists = []\n",
    "    for j in range(len(array)):\n",
    "        max = 0\n",
    "        max_list = []\n",
    "        for i in range(j, len(array)):\n",
    "            max += array[i][1]\n",
    "            max_list.append((array[i][0], max))\n",
    "        max_list = sorted(max_list, key=lambda x: x[1], reverse=True)\n",
    "        #print(f'{j}:{max_list}')\n",
    "        max_list = (j, max_list[0][0], max_list[0][1])\n",
    "        max_lists.append(max_list)\n",
    "    max_lists = sorted(max_lists, key=lambda x: x[2], reverse=True)\n",
    "    return max_lists[0]\n"
   ]
  },
  {
   "cell_type": "code",
   "execution_count": 3,
   "metadata": {},
   "outputs": [],
   "source": [
    "def get_max_A(array):\n",
    "    divide = int(len(array)/2)\n",
    "\n",
    "    if divide == 0 :\n",
    "        max_list_A1 = [(0,0)]\n",
    "    else:\n",
    "        max = 0\n",
    "        max_list_A1 = []\n",
    "        for i in range(divide-1, -1, -1):\n",
    "            max += array[i][1]\n",
    "            max_list_A1.append((array[i][0], max))\n",
    "        max_list_A1 = sorted(max_list_A1, key=lambda x: x[1], reverse=True)\n",
    "\n",
    "    #print(max_list_A1)\n",
    "    max = 0\n",
    "    max_list_A2 = []\n",
    "    for i in range(divide, len(array)):\n",
    "        max += array[i][1]\n",
    "        max_list_A2.append((array[i][0],max))\n",
    "    max_list_A2 = sorted(max_list_A2, key=lambda x: x[1], reverse=True)\n",
    "    #print(max_list_A2)\n",
    "    return (max_list_A1[0][0], max_list_A2[0][0], max_list_A1[0][1]+max_list_A2[0][1])\n",
    "    "
   ]
  },
  {
   "cell_type": "code",
   "execution_count": 4,
   "metadata": {},
   "outputs": [],
   "source": [
    "def get_max_array_recursion(array):\n",
    "    #array has form like (index, value)\n",
    "    # time complexity is O(nlogn)\n",
    "    length = len(array)\n",
    "    divide = int(length/2)\n",
    "    \n",
    "    if length == 1:\n",
    "        return (array[0][0], array[0][0], array[0][1])\n",
    "\n",
    "    if length == 2:\n",
    "        S1 = (array[0][0], array[0][0], array[0][1])\n",
    "        S2 = (array[length-1][0], array[length-1][0], array[length-1][1])\n",
    "        A = get_max_A(array)\n",
    "        max_list = sorted([S1,S2,A], key=lambda x: x[2], reverse=True)\n",
    "        return max_list[0]\n",
    "\n",
    "    S1 = get_max_array_recursion(array[0:divide]) #O(logn)\n",
    "    S2 = get_max_array_recursion(array[divide:])  #O(logn)\n",
    "    A = get_max_A(array) #O(n)\n",
    "    max_list = sorted([S1, S2, A], key=lambda x: x[2], reverse=True)\n",
    "    return max_list[0] \n"
   ]
  },
  {
   "cell_type": "code",
   "execution_count": 20,
   "metadata": {},
   "outputs": [
    {
     "name": "stdout",
     "output_type": "stream",
     "text": [
      "(7, 10, 43)\n",
      "0.0\n",
      "(7, 10, 43)\n",
      "0.0\n"
     ]
    }
   ],
   "source": [
    "array = [13, -3, -25, 20, -3, -16, -23,  18,  20, -7,  12, -5, -22,  15, -4,  7]\n",
    "\n",
    "t0 = time.time()\n",
    "result = get_max_array_recursion(list(enumerate(array)))\n",
    "#time.sleep(0.1)``\n",
    "print(result)\n",
    "print(time.time()-t0)\n",
    "\n",
    "t0 = time.time()\n",
    "result = get_max_array_traversal(list(enumerate(array)))\n",
    "print(result)\n",
    "print(time.time()-t0)\n"
   ]
  },
  {
   "cell_type": "code",
   "execution_count": 21,
   "metadata": {},
   "outputs": [
    {
     "name": "stdout",
     "output_type": "stream",
     "text": [
      "(10, 2136, 3813)\n",
      "0.026987552642822266\n",
      "(10, 2136, 3813)\n",
      "1.864675521850586\n"
     ]
    }
   ],
   "source": [
    "array = [random.randint(-50, 51) for i in range(3000)]\n",
    "\n",
    "t0 = time.time()\n",
    "result = get_max_array_recursion(list(enumerate(array)))\n",
    "#time.sleep(0.1)``\n",
    "print(result)\n",
    "print(time.time()-t0)\n",
    "\n",
    "t0 = time.time()\n",
    "result = get_max_array_traversal(list(enumerate(array)))\n",
    "print(result)\n",
    "print(time.time()-t0)\n"
   ]
  }
 ],
 "metadata": {
  "interpreter": {
   "hash": "596d40e10c8dbc1f334111a30616210e26cabb2221246175dbe35ca46d93f2eb"
  },
  "kernelspec": {
   "display_name": "Python 3.8.12 64-bit ('softlab': conda)",
   "language": "python",
   "name": "python3"
  },
  "language_info": {
   "codemirror_mode": {
    "name": "ipython",
    "version": 3
   },
   "file_extension": ".py",
   "mimetype": "text/x-python",
   "name": "python",
   "nbconvert_exporter": "python",
   "pygments_lexer": "ipython3",
   "version": "3.8.12"
  },
  "orig_nbformat": 4
 },
 "nbformat": 4,
 "nbformat_minor": 2
}
