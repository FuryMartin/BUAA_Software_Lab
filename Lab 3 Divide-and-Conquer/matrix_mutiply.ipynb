{
 "cells": [
  {
   "cell_type": "code",
   "execution_count": 99,
   "metadata": {},
   "outputs": [],
   "source": [
    "import random\n",
    "import time\n",
    "from functools import reduce"
   ]
  },
  {
   "cell_type": "code",
   "execution_count": 100,
   "metadata": {},
   "outputs": [],
   "source": [
    "def get_matrix(m,n,type='random'):\n",
    "    matrix = []\n",
    "    if type=='random':\n",
    "        for i in range(m):\n",
    "            row = []\n",
    "            for j in range(n):\n",
    "                row.append(random.randint(-50, 51))\n",
    "            matrix.append(row)\n",
    "    elif type=='zero':\n",
    "        matrix = [[0 for j in range(n)] for i in range(m)]\n",
    "    return matrix\n"
   ]
  },
  {
   "cell_type": "code",
   "execution_count": 101,
   "metadata": {},
   "outputs": [],
   "source": [
    "def matrix_dot(A, B):\n",
    "    m = len(A)\n",
    "    p = len(A[0])\n",
    "    n = len(B[0])\n",
    "    C = [[sum([A[i][k]*B[k][j] for k in range(p)]) for j in range(n)] for i in range(m)]\n",
    "    return C\n"
   ]
  },
  {
   "cell_type": "code",
   "execution_count": 102,
   "metadata": {},
   "outputs": [],
   "source": [
    "def matrix_split(A):\n",
    "    # A为n阶方阵\n",
    "    n = len(A)\n",
    "    A11 = []\n",
    "    A12 = []\n",
    "    A21 = []\n",
    "    A22 = []\n",
    "    for i in range(int(n/2)):\n",
    "        A11.append(A[i][0:int(n/2)])\n",
    "        A12.append(A[i][int(n/2):])\n",
    "    for i in range(int(n/2),n):\n",
    "        A21.append(A[i][0:int(n/2)])\n",
    "        A22.append(A[i][int(n/2):])\n",
    "    return (A11,A12,A21,A22)\n"
   ]
  },
  {
   "cell_type": "code",
   "execution_count": 103,
   "metadata": {},
   "outputs": [],
   "source": [
    "def matrix_join(A11,A12,A21,A22):\n",
    "    m1 = len(A11)\n",
    "    m2 = len(A21)\n",
    "    matrix = []\n",
    "    for i in range(m1):\n",
    "        matrix.append(A11[i]+A12[i])\n",
    "    for i in range(m2):\n",
    "        matrix.append(A21[i]+A22[i])\n",
    "    return matrix\n",
    "\n"
   ]
  },
  {
   "cell_type": "code",
   "execution_count": 104,
   "metadata": {},
   "outputs": [],
   "source": [
    "def matrix_add(A, B):\n",
    "    m = len(A)\n",
    "    n = len(A[0])\n",
    "    C = [[A[i][j]+B[i][j] for j in range(n)] for i in range(m)]\n",
    "    return C"
   ]
  },
  {
   "cell_type": "code",
   "execution_count": 105,
   "metadata": {},
   "outputs": [],
   "source": [
    "def matrix_reduce(A, B):\n",
    "    m = len(A)\n",
    "    n = len(A[0])\n",
    "    C = [[A[i][j]-B[i][j] for j in range(n)] for i in range(m)]\n",
    "    return C\n",
    "\n"
   ]
  },
  {
   "cell_type": "code",
   "execution_count": 106,
   "metadata": {},
   "outputs": [],
   "source": [
    "def Strassen(A, B):\n",
    "    #https://www.cnblogs.com/hdk1993/p/4552534.html\n",
    "    if len(A) == 2 and len(A[0]) == 2:\n",
    "        return matrix_dot(A, B)\n",
    "    A11, A12, A21, A22 = matrix_split(A)\n",
    "    B11, B12, B21, B22 = matrix_split(B)\n",
    "    M1 = Strassen(matrix_add(A11, A22), matrix_add(B11, B22))\n",
    "    M2 = Strassen(matrix_add(A21, A22), B11)\n",
    "    M3 = Strassen(A11, matrix_reduce(B12, B22))\n",
    "    M4 = Strassen(A22, matrix_reduce(B21, B11))\n",
    "    M5 = Strassen(matrix_add(A11, A12), B22)\n",
    "    M6 = Strassen(matrix_reduce(A21, A11), matrix_add(B11, B12))\n",
    "    M7 = Strassen(matrix_reduce(A12, A22), matrix_add(B21, B22))\n",
    "    C11 = matrix_add(matrix_add(M1, M4), matrix_reduce(M7, M5))\n",
    "    C12 = matrix_add(M3, M5)\n",
    "    C21 = matrix_add(M2, M4)\n",
    "    C22 = matrix_add(matrix_reduce(M1, M2), matrix_add(M3, M6))\n",
    "    C = matrix_join(C11, C12, C21, C22)\n",
    "    \n",
    "    return C"
   ]
  },
  {
   "cell_type": "code",
   "execution_count": 107,
   "metadata": {},
   "outputs": [],
   "source": [
    "n = 256\n",
    "A = get_matrix(n,n)\n",
    "B = get_matrix(n,n)"
   ]
  },
  {
   "cell_type": "code",
   "execution_count": 108,
   "metadata": {},
   "outputs": [],
   "source": [
    "#print(A)\n",
    "#print(B)\n",
    "#print(matrix_dot(A,B))"
   ]
  },
  {
   "cell_type": "code",
   "execution_count": 109,
   "metadata": {},
   "outputs": [
    {
     "name": "stdout",
     "output_type": "stream",
     "text": [
      "3.7520499229431152\n",
      "16.087949514389038\n",
      "Correct\n"
     ]
    }
   ],
   "source": [
    "t0 = time.time()\n",
    "dot_1 = matrix_dot(A, B)\n",
    "print(time.time()-t0)\n",
    "t0 = time.time()\n",
    "dot_2 = Strassen(A, B)\n",
    "print(time.time()-t0)\n",
    "if dot_1 == dot_2:\n",
    "    print(\"Correct\")\n"
   ]
  }
 ],
 "metadata": {
  "interpreter": {
   "hash": "596d40e10c8dbc1f334111a30616210e26cabb2221246175dbe35ca46d93f2eb"
  },
  "kernelspec": {
   "display_name": "Python 3.8.12 64-bit ('softlab': conda)",
   "language": "python",
   "name": "python3"
  },
  "language_info": {
   "codemirror_mode": {
    "name": "ipython",
    "version": 3
   },
   "file_extension": ".py",
   "mimetype": "text/x-python",
   "name": "python",
   "nbconvert_exporter": "python",
   "pygments_lexer": "ipython3",
   "version": "3.8.12"
  },
  "orig_nbformat": 4
 },
 "nbformat": 4,
 "nbformat_minor": 2
}
